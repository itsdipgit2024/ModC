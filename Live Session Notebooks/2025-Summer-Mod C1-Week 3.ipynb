{
 "cells": [
  {
   "cell_type": "code",
   "execution_count": 2,
   "id": "c71f11b4-96e4-41e9-9f76-5e7a4b3882b4",
   "metadata": {},
   "outputs": [],
   "source": [
    "import numpy as np\n",
    "import pandas as pd\n",
    "import scipy\n",
    "import matplotlib.pyplot as plt\n",
    "from sklearn.metrics import root_mean_squared_error\n",
    "import statsmodels.api as sm\n",
    "from statsmodels.regression.linear_model import OLS"
   ]
  },
  {
   "cell_type": "markdown",
   "id": "fde37274-b001-4e0a-96e3-7c10e1ec607e",
   "metadata": {},
   "source": [
    "### Forward selection"
   ]
  },
  {
   "cell_type": "code",
   "execution_count": 84,
   "id": "85b56a91-942e-4d59-bf12-070dc9d1d872",
   "metadata": {},
   "outputs": [],
   "source": [
    "numrows = 1000\n",
    "numcols = 10\n",
    "np.random.seed(0)\n",
    "X = np.random.normal(0, 1, (numrows, numcols))\n",
    "coefs = np.random.uniform(1, 5, (numcols,))\n",
    "Y = X @ coefs + np.random.normal(0, 1, (numrows,))"
   ]
  },
  {
   "cell_type": "code",
   "execution_count": 85,
   "id": "37cdcd8c-66a3-4331-ac04-7997d501f071",
   "metadata": {},
   "outputs": [
    {
     "data": {
      "text/plain": [
       "array([1.38266659, 2.60768308, 3.10220095, 3.9293287 , 1.5411149 ,\n",
       "       2.76092265, 3.78260759, 3.53155077, 1.3361475 , 2.34574745])"
      ]
     },
     "execution_count": 85,
     "metadata": {},
     "output_type": "execute_result"
    }
   ],
   "source": [
    "coefs"
   ]
  },
  {
   "cell_type": "code",
   "execution_count": 86,
   "id": "c4eff8d6-5def-4341-8698-c696fc26b3ca",
   "metadata": {},
   "outputs": [],
   "source": [
    "cols_used = list()\n",
    "rsq_obtained = list()\n",
    "cols_unused = np.arange(numcols)"
   ]
  },
  {
   "cell_type": "code",
   "execution_count": 89,
   "id": "5f2c34ef-1405-4284-a135-de66b1173840",
   "metadata": {},
   "outputs": [],
   "source": [
    "cols_used.append(1)"
   ]
  },
  {
   "cell_type": "code",
   "execution_count": 90,
   "id": "10d1fade-4006-4e15-894e-f5a388982538",
   "metadata": {},
   "outputs": [
    {
     "data": {
      "text/plain": [
       "[1]"
      ]
     },
     "execution_count": 90,
     "metadata": {},
     "output_type": "execute_result"
    }
   ],
   "source": [
    "cols_used"
   ]
  },
  {
   "cell_type": "code",
   "execution_count": 91,
   "id": "7c816f98-763f-4ca0-a5e1-5f8414c070ed",
   "metadata": {},
   "outputs": [
    {
     "name": "stdout",
     "output_type": "stream",
     "text": [
      "[3, 6, 7, 2, 5, 1, 9, 4, 0, 8]\n",
      "['0.175', '0.35', '0.531', '0.655', '0.741', '0.829', '0.9', '0.931', '0.959', '0.986']\n"
     ]
    }
   ],
   "source": [
    "cols_used = list()\n",
    "rsq_obtained = list()\n",
    "cols_unused = np.arange(numcols)\n",
    "for n in range(numcols):\n",
    "    cur_col = \"\"\n",
    "    cur_rsq = -100\n",
    "    for col in cols_unused:\n",
    "        cols_used_extended = list(set(cols_used).union({col}))\n",
    "        X_next = X[:, cols_used_extended]\n",
    "        results = sm.OLS(Y, X_next).fit()\n",
    "        rsq = results.rsquared\n",
    "        if rsq > cur_rsq:\n",
    "            cur_col = col\n",
    "            cur_rsq = rsq\n",
    "    cols_unused = list(set(cols_unused) - {cur_col})\n",
    "    cols_used.append(cur_col)\n",
    "    rsq_obtained.append(cur_rsq)\n",
    "print(cols_used)\n",
    "print([f\"{x:.3}\" for x in rsq_obtained])"
   ]
  },
  {
   "cell_type": "code",
   "execution_count": 92,
   "id": "891ee690-5bd7-4a5c-8a56-119d9059923d",
   "metadata": {},
   "outputs": [
    {
     "data": {
      "text/plain": [
       "0.6549564433469119"
      ]
     },
     "execution_count": 92,
     "metadata": {},
     "output_type": "execute_result"
    }
   ],
   "source": [
    "results = sm.OLS(Y, X[:, [3, 6, 7, 2]]).fit()\n",
    "results.rsquared"
   ]
  },
  {
   "cell_type": "markdown",
   "id": "0b1895a6-0927-4f02-aebd-e99bb27f9efa",
   "metadata": {},
   "source": [
    "### Backward selection"
   ]
  },
  {
   "cell_type": "code",
   "execution_count": 93,
   "id": "b4181f51-a2a6-4378-b9a8-b3d40f5edc5a",
   "metadata": {},
   "outputs": [
    {
     "name": "stdout",
     "output_type": "stream",
     "text": [
      "[8, 0, 4, 9, 1, 5, 2, 7, 6]\n",
      "['0.959', '0.931', '0.9', '0.829', '0.741', '0.655', '0.531', '0.35', '0.175']\n"
     ]
    }
   ],
   "source": [
    "cols_unused = list()\n",
    "rsq_obtained = list()\n",
    "cols_used = np.arange(numcols)\n",
    "for n in range(numcols - 1):\n",
    "    cur_col = \"\"\n",
    "    cur_rsq = -100\n",
    "    for col in cols_used:\n",
    "        cols_used_reduced = list(set(cols_used) - {col})\n",
    "        X_next = X[:, cols_used_reduced]\n",
    "        results = sm.OLS(Y, X_next).fit()\n",
    "        rsq = results.rsquared\n",
    "        if rsq > cur_rsq:\n",
    "            cur_col = col\n",
    "            cur_rsq = rsq\n",
    "    cols_used = list(set(cols_used) - {cur_col})\n",
    "    cols_unused.append(cur_col)\n",
    "    rsq_obtained.append(cur_rsq)\n",
    "print(cols_unused)\n",
    "print([f\"{x:.3}\" for x in rsq_obtained])"
   ]
  },
  {
   "cell_type": "markdown",
   "id": "e60091d7-093d-4ef2-9ba1-631fd9f8d079",
   "metadata": {},
   "source": [
    "### Lasso and Ridge Regression"
   ]
  },
  {
   "cell_type": "code",
   "execution_count": 94,
   "id": "3989560d-e26a-43c9-ab8d-0906bd8979bb",
   "metadata": {},
   "outputs": [],
   "source": [
    "numrows = 1000\n",
    "numcols = 10\n",
    "X = np.random.normal(0, 1, (numrows, numcols))"
   ]
  },
  {
   "cell_type": "code",
   "execution_count": 95,
   "id": "4c4d42cc-130c-4dc7-b5c6-7b477b5015e9",
   "metadata": {},
   "outputs": [
    {
     "data": {
      "text/plain": [
       "array([0.        , 0.        , 0.        , 0.        , 0.        ,\n",
       "       1.2232724 , 4.02698937, 3.98064501, 2.19661032, 1.7423786 ])"
      ]
     },
     "execution_count": 95,
     "metadata": {},
     "output_type": "execute_result"
    }
   ],
   "source": [
    "coefs = np.hstack((np.zeros(int(numcols / 2),), np.random.uniform(1, 5, (int(numcols / 2),))))\n",
    "coefs"
   ]
  },
  {
   "cell_type": "code",
   "execution_count": 96,
   "id": "0753bf7a-a80e-4870-b792-bf5bb3655036",
   "metadata": {},
   "outputs": [],
   "source": [
    "Y = X @ coefs + np.random.normal(0, 1, (numrows,))"
   ]
  },
  {
   "cell_type": "code",
   "execution_count": 97,
   "id": "11732460-fd53-42bd-b2b0-08896405aa7d",
   "metadata": {},
   "outputs": [],
   "source": [
    "df = pd.DataFrame(X, columns = list(range(10)))"
   ]
  },
  {
   "cell_type": "markdown",
   "id": "f34be206-8d84-480a-9b9c-8c5ef3b35e5e",
   "metadata": {},
   "source": [
    "### Lasso"
   ]
  },
  {
   "cell_type": "code",
   "execution_count": 107,
   "id": "f6aaccd2-33e8-4849-a39d-7ce287a0b6cd",
   "metadata": {},
   "outputs": [],
   "source": [
    "results = OLS(Y, df).fit_regularized(method = 'elastic_net', alpha = 1.0, L1_wt = 1.0)"
   ]
  },
  {
   "cell_type": "code",
   "execution_count": 108,
   "id": "09ea5018-1b79-4245-b273-e5cb9b257bbc",
   "metadata": {},
   "outputs": [
    {
     "data": {
      "text/plain": [
       "0    0.000000\n",
       "1    0.000000\n",
       "2    0.000000\n",
       "3    0.000000\n",
       "4    0.000000\n",
       "5    0.243532\n",
       "6    3.018165\n",
       "7    3.007673\n",
       "8    1.155491\n",
       "9    0.714582\n",
       "dtype: float64"
      ]
     },
     "execution_count": 108,
     "metadata": {},
     "output_type": "execute_result"
    }
   ],
   "source": [
    "results.params"
   ]
  },
  {
   "cell_type": "code",
   "execution_count": 109,
   "id": "0af7306c-a892-4085-9527-3460f174900b",
   "metadata": {},
   "outputs": [
    {
     "data": {
      "text/plain": [
       "2.443132405756472"
      ]
     },
     "execution_count": 109,
     "metadata": {},
     "output_type": "execute_result"
    }
   ],
   "source": [
    "root_mean_squared_error(Y, X @ results.params)"
   ]
  },
  {
   "cell_type": "markdown",
   "id": "cdfb7c0c-8f14-4fcc-84b0-2c91802dfb1d",
   "metadata": {},
   "source": [
    "### Null model - mean only"
   ]
  },
  {
   "cell_type": "code",
   "execution_count": 110,
   "id": "02febf13-5a1e-4f64-9100-a2dfbb588aa3",
   "metadata": {},
   "outputs": [
    {
     "data": {
      "text/plain": [
       "6.495337013481665"
      ]
     },
     "execution_count": 110,
     "metadata": {},
     "output_type": "execute_result"
    }
   ],
   "source": [
    "np.std(Y - Y.mean()) # null model - just predict the mean"
   ]
  },
  {
   "cell_type": "markdown",
   "id": "f12329b0-876e-4e23-87d5-5925d52a5bbc",
   "metadata": {},
   "source": [
    "### Refit model - assume Lasso's chosen coefs are all that matters"
   ]
  },
  {
   "cell_type": "code",
   "execution_count": 111,
   "id": "2dbd2996-f72e-4533-a3d3-3c457bd6ea67",
   "metadata": {},
   "outputs": [],
   "source": [
    "X2 = df.iloc[:, np.argwhere(results.params > 0).ravel()]\n",
    "results2 = OLS(Y, X2).fit()"
   ]
  },
  {
   "cell_type": "code",
   "execution_count": 112,
   "id": "afc29bc9-8bff-403a-b8e7-9e9882ecb90a",
   "metadata": {},
   "outputs": [
    {
     "data": {
      "text/plain": [
       "5    1.248863\n",
       "6    4.037761\n",
       "7    3.964845\n",
       "8    2.177846\n",
       "9    1.709469\n",
       "dtype: float64"
      ]
     },
     "execution_count": 112,
     "metadata": {},
     "output_type": "execute_result"
    }
   ],
   "source": [
    "results2.params"
   ]
  },
  {
   "cell_type": "code",
   "execution_count": 113,
   "id": "3631c45e-8a53-4a74-9abf-e515b1f41835",
   "metadata": {},
   "outputs": [
    {
     "data": {
      "text/plain": [
       "0.9771330313647766"
      ]
     },
     "execution_count": 113,
     "metadata": {},
     "output_type": "execute_result"
    }
   ],
   "source": [
    "results2.rsquared"
   ]
  },
  {
   "cell_type": "code",
   "execution_count": 114,
   "id": "e896b155-55be-49ce-8e28-56cfb091af87",
   "metadata": {},
   "outputs": [
    {
     "data": {
      "text/plain": [
       "0.9846601241494901"
      ]
     },
     "execution_count": 114,
     "metadata": {},
     "output_type": "execute_result"
    }
   ],
   "source": [
    "root_mean_squared_error(Y, X2 @ results2.params)"
   ]
  },
  {
   "cell_type": "markdown",
   "id": "5e4881ef-c45a-4aac-9037-4588797e9cd3",
   "metadata": {},
   "source": [
    "### Ridge"
   ]
  },
  {
   "cell_type": "code",
   "execution_count": 115,
   "id": "d03a1095-16b7-40cd-ae62-d48c73798783",
   "metadata": {},
   "outputs": [],
   "source": [
    "results3 = OLS(Y, X).fit_regularized(method = 'elastic_net', alpha = 0.1, L1_wt = 0.0)"
   ]
  },
  {
   "cell_type": "code",
   "execution_count": 116,
   "id": "02be0163-3508-410a-b70c-4ae47cfa3a6c",
   "metadata": {},
   "outputs": [
    {
     "data": {
      "text/plain": [
       "array([ 1.06918540e-02, -6.31073932e-03, -9.14902410e-03, -2.97657118e-03,\n",
       "       -1.67093895e-02,  1.13856709e+00,  3.67151430e+00,  3.60913425e+00,\n",
       "        1.96926813e+00,  1.55871222e+00])"
      ]
     },
     "execution_count": 116,
     "metadata": {},
     "output_type": "execute_result"
    }
   ],
   "source": [
    "results3.params"
   ]
  },
  {
   "cell_type": "code",
   "execution_count": 61,
   "id": "126386f5-47cd-4570-b50b-e372d3a26dfc",
   "metadata": {},
   "outputs": [
    {
     "data": {
      "text/plain": [
       "1.169149416426918"
      ]
     },
     "execution_count": 61,
     "metadata": {},
     "output_type": "execute_result"
    }
   ],
   "source": [
    "root_mean_squared_error(Y, X @ results3.params)"
   ]
  },
  {
   "cell_type": "markdown",
   "id": "597a2946-c4de-47b8-8b10-a840f2f87691",
   "metadata": {},
   "source": [
    "### Test data"
   ]
  },
  {
   "cell_type": "code",
   "execution_count": 73,
   "id": "55ddb7bb-9898-4ab0-a99d-b4c187ac66af",
   "metadata": {},
   "outputs": [],
   "source": [
    "X_test = np.random.normal(0, 1, (numrows, numcols))\n",
    "Y_test = X_test @ coefs + np.random.normal(0, 1, (numrows,))"
   ]
  },
  {
   "cell_type": "code",
   "execution_count": 74,
   "id": "19f59993-468b-4ae8-9392-aaaa0671bc3f",
   "metadata": {},
   "outputs": [
    {
     "data": {
      "text/plain": [
       "2.2712726717197023"
      ]
     },
     "execution_count": 74,
     "metadata": {},
     "output_type": "execute_result"
    }
   ],
   "source": [
    "root_mean_squared_error(Y_test, X_test @ results.params)"
   ]
  },
  {
   "cell_type": "code",
   "execution_count": 75,
   "id": "15081269-05b5-464a-9990-f83a1076b901",
   "metadata": {},
   "outputs": [
    {
     "data": {
      "text/plain": [
       "1.016817858147878"
      ]
     },
     "execution_count": 75,
     "metadata": {},
     "output_type": "execute_result"
    }
   ],
   "source": [
    "df_test = pd.DataFrame(X_test, columns = list(range(10)))\n",
    "X_test_cut = df_test.iloc[:, np.argwhere(coefs > 0).ravel()]\n",
    "root_mean_squared_error(Y_test, X_test_cut @ results2.params)"
   ]
  },
  {
   "cell_type": "code",
   "execution_count": 76,
   "id": "09edf72e-624a-46df-a1d7-7a6c94f4107d",
   "metadata": {},
   "outputs": [
    {
     "data": {
      "text/plain": [
       "1.1492647139780656"
      ]
     },
     "execution_count": 76,
     "metadata": {},
     "output_type": "execute_result"
    }
   ],
   "source": [
    "root_mean_squared_error(Y_test, X_test @ results3.params)"
   ]
  },
  {
   "cell_type": "code",
   "execution_count": null,
   "id": "fedb85fd-ba8f-4243-893b-b83159106d14",
   "metadata": {},
   "outputs": [],
   "source": []
  }
 ],
 "metadata": {
  "kernelspec": {
   "display_name": "Python 3 (ipykernel)",
   "language": "python",
   "name": "python3"
  },
  "language_info": {
   "codemirror_mode": {
    "name": "ipython",
    "version": 3
   },
   "file_extension": ".py",
   "mimetype": "text/x-python",
   "name": "python",
   "nbconvert_exporter": "python",
   "pygments_lexer": "ipython3",
   "version": "3.12.0"
  }
 },
 "nbformat": 4,
 "nbformat_minor": 5
}
