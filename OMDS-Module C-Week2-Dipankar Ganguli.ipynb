{
 "cells": [
  {
   "cell_type": "code",
   "execution_count": 2,
   "id": "aa5dd311",
   "metadata": {},
   "outputs": [],
   "source": [
    "import numpy as np\n",
    "import pandas as pd\n",
    "import scipy\n",
    "import matplotlib.pyplot as plt\n",
    "from sklearn.metrics import root_mean_squared_error\n",
    "import statsmodels.api as sm\n",
    "from statsmodels.regression.linear_model import OLS"
   ]
  },
  {
   "cell_type": "code",
   "execution_count": 3,
   "id": "e3dffe24",
   "metadata": {},
   "outputs": [],
   "source": [
    "df_statlog=pd.read_csv('capstone datasets/Heart Disease Statlog/Heart_disease_statlog.csv')"
   ]
  },
  {
   "cell_type": "code",
   "execution_count": 4,
   "id": "d413a3da",
   "metadata": {},
   "outputs": [
    {
     "name": "stdout",
     "output_type": "stream",
     "text": [
      "<class 'pandas.core.frame.DataFrame'>\n",
      "RangeIndex: 270 entries, 0 to 269\n",
      "Data columns (total 14 columns):\n",
      " #   Column    Non-Null Count  Dtype  \n",
      "---  ------    --------------  -----  \n",
      " 0   age       270 non-null    int64  \n",
      " 1   sex       270 non-null    int64  \n",
      " 2   cp        270 non-null    int64  \n",
      " 3   trestbps  270 non-null    int64  \n",
      " 4   chol      270 non-null    int64  \n",
      " 5   fbs       270 non-null    int64  \n",
      " 6   restecg   270 non-null    int64  \n",
      " 7   thalach   270 non-null    int64  \n",
      " 8   exang     270 non-null    int64  \n",
      " 9   oldpeak   270 non-null    float64\n",
      " 10  slope     270 non-null    int64  \n",
      " 11  ca        270 non-null    int64  \n",
      " 12  thal      270 non-null    int64  \n",
      " 13  target    270 non-null    int64  \n",
      "dtypes: float64(1), int64(13)\n",
      "memory usage: 29.7 KB\n"
     ]
    }
   ],
   "source": [
    "df_statlog.info()"
   ]
  },
  {
   "cell_type": "code",
   "execution_count": 5,
   "id": "cd37c60e",
   "metadata": {},
   "outputs": [
    {
     "data": {
      "text/html": [
       "<div>\n",
       "<style scoped>\n",
       "    .dataframe tbody tr th:only-of-type {\n",
       "        vertical-align: middle;\n",
       "    }\n",
       "\n",
       "    .dataframe tbody tr th {\n",
       "        vertical-align: top;\n",
       "    }\n",
       "\n",
       "    .dataframe thead th {\n",
       "        text-align: right;\n",
       "    }\n",
       "</style>\n",
       "<table border=\"1\" class=\"dataframe\">\n",
       "  <thead>\n",
       "    <tr style=\"text-align: right;\">\n",
       "      <th></th>\n",
       "      <th>age</th>\n",
       "      <th>sex</th>\n",
       "      <th>cp</th>\n",
       "      <th>trestbps</th>\n",
       "      <th>chol</th>\n",
       "      <th>fbs</th>\n",
       "      <th>restecg</th>\n",
       "      <th>thalach</th>\n",
       "      <th>exang</th>\n",
       "      <th>oldpeak</th>\n",
       "      <th>slope</th>\n",
       "      <th>ca</th>\n",
       "      <th>thal</th>\n",
       "      <th>target</th>\n",
       "    </tr>\n",
       "  </thead>\n",
       "  <tbody>\n",
       "    <tr>\n",
       "      <th>count</th>\n",
       "      <td>270.000000</td>\n",
       "      <td>270.000000</td>\n",
       "      <td>270.000000</td>\n",
       "      <td>270.000000</td>\n",
       "      <td>270.000000</td>\n",
       "      <td>270.000000</td>\n",
       "      <td>270.000000</td>\n",
       "      <td>270.000000</td>\n",
       "      <td>270.000000</td>\n",
       "      <td>270.00000</td>\n",
       "      <td>270.000000</td>\n",
       "      <td>270.000000</td>\n",
       "      <td>270.000000</td>\n",
       "      <td>270.000000</td>\n",
       "    </tr>\n",
       "    <tr>\n",
       "      <th>mean</th>\n",
       "      <td>54.433333</td>\n",
       "      <td>0.677778</td>\n",
       "      <td>2.174074</td>\n",
       "      <td>131.344444</td>\n",
       "      <td>249.659259</td>\n",
       "      <td>0.148148</td>\n",
       "      <td>1.022222</td>\n",
       "      <td>149.677778</td>\n",
       "      <td>0.329630</td>\n",
       "      <td>1.05000</td>\n",
       "      <td>0.585185</td>\n",
       "      <td>0.670370</td>\n",
       "      <td>1.822222</td>\n",
       "      <td>0.444444</td>\n",
       "    </tr>\n",
       "    <tr>\n",
       "      <th>std</th>\n",
       "      <td>9.109067</td>\n",
       "      <td>0.468195</td>\n",
       "      <td>0.950090</td>\n",
       "      <td>17.861608</td>\n",
       "      <td>51.686237</td>\n",
       "      <td>0.355906</td>\n",
       "      <td>0.997891</td>\n",
       "      <td>23.165717</td>\n",
       "      <td>0.470952</td>\n",
       "      <td>1.14521</td>\n",
       "      <td>0.614390</td>\n",
       "      <td>0.943896</td>\n",
       "      <td>0.959140</td>\n",
       "      <td>0.497827</td>\n",
       "    </tr>\n",
       "    <tr>\n",
       "      <th>min</th>\n",
       "      <td>29.000000</td>\n",
       "      <td>0.000000</td>\n",
       "      <td>0.000000</td>\n",
       "      <td>94.000000</td>\n",
       "      <td>126.000000</td>\n",
       "      <td>0.000000</td>\n",
       "      <td>0.000000</td>\n",
       "      <td>71.000000</td>\n",
       "      <td>0.000000</td>\n",
       "      <td>0.00000</td>\n",
       "      <td>0.000000</td>\n",
       "      <td>0.000000</td>\n",
       "      <td>1.000000</td>\n",
       "      <td>0.000000</td>\n",
       "    </tr>\n",
       "    <tr>\n",
       "      <th>25%</th>\n",
       "      <td>48.000000</td>\n",
       "      <td>0.000000</td>\n",
       "      <td>2.000000</td>\n",
       "      <td>120.000000</td>\n",
       "      <td>213.000000</td>\n",
       "      <td>0.000000</td>\n",
       "      <td>0.000000</td>\n",
       "      <td>133.000000</td>\n",
       "      <td>0.000000</td>\n",
       "      <td>0.00000</td>\n",
       "      <td>0.000000</td>\n",
       "      <td>0.000000</td>\n",
       "      <td>1.000000</td>\n",
       "      <td>0.000000</td>\n",
       "    </tr>\n",
       "    <tr>\n",
       "      <th>50%</th>\n",
       "      <td>55.000000</td>\n",
       "      <td>1.000000</td>\n",
       "      <td>2.000000</td>\n",
       "      <td>130.000000</td>\n",
       "      <td>245.000000</td>\n",
       "      <td>0.000000</td>\n",
       "      <td>2.000000</td>\n",
       "      <td>153.500000</td>\n",
       "      <td>0.000000</td>\n",
       "      <td>0.80000</td>\n",
       "      <td>1.000000</td>\n",
       "      <td>0.000000</td>\n",
       "      <td>1.000000</td>\n",
       "      <td>0.000000</td>\n",
       "    </tr>\n",
       "    <tr>\n",
       "      <th>75%</th>\n",
       "      <td>61.000000</td>\n",
       "      <td>1.000000</td>\n",
       "      <td>3.000000</td>\n",
       "      <td>140.000000</td>\n",
       "      <td>280.000000</td>\n",
       "      <td>0.000000</td>\n",
       "      <td>2.000000</td>\n",
       "      <td>166.000000</td>\n",
       "      <td>1.000000</td>\n",
       "      <td>1.60000</td>\n",
       "      <td>1.000000</td>\n",
       "      <td>1.000000</td>\n",
       "      <td>3.000000</td>\n",
       "      <td>1.000000</td>\n",
       "    </tr>\n",
       "    <tr>\n",
       "      <th>max</th>\n",
       "      <td>77.000000</td>\n",
       "      <td>1.000000</td>\n",
       "      <td>3.000000</td>\n",
       "      <td>200.000000</td>\n",
       "      <td>564.000000</td>\n",
       "      <td>1.000000</td>\n",
       "      <td>2.000000</td>\n",
       "      <td>202.000000</td>\n",
       "      <td>1.000000</td>\n",
       "      <td>6.20000</td>\n",
       "      <td>2.000000</td>\n",
       "      <td>3.000000</td>\n",
       "      <td>3.000000</td>\n",
       "      <td>1.000000</td>\n",
       "    </tr>\n",
       "  </tbody>\n",
       "</table>\n",
       "</div>"
      ],
      "text/plain": [
       "              age         sex          cp    trestbps        chol         fbs  \\\n",
       "count  270.000000  270.000000  270.000000  270.000000  270.000000  270.000000   \n",
       "mean    54.433333    0.677778    2.174074  131.344444  249.659259    0.148148   \n",
       "std      9.109067    0.468195    0.950090   17.861608   51.686237    0.355906   \n",
       "min     29.000000    0.000000    0.000000   94.000000  126.000000    0.000000   \n",
       "25%     48.000000    0.000000    2.000000  120.000000  213.000000    0.000000   \n",
       "50%     55.000000    1.000000    2.000000  130.000000  245.000000    0.000000   \n",
       "75%     61.000000    1.000000    3.000000  140.000000  280.000000    0.000000   \n",
       "max     77.000000    1.000000    3.000000  200.000000  564.000000    1.000000   \n",
       "\n",
       "          restecg     thalach       exang    oldpeak       slope          ca  \\\n",
       "count  270.000000  270.000000  270.000000  270.00000  270.000000  270.000000   \n",
       "mean     1.022222  149.677778    0.329630    1.05000    0.585185    0.670370   \n",
       "std      0.997891   23.165717    0.470952    1.14521    0.614390    0.943896   \n",
       "min      0.000000   71.000000    0.000000    0.00000    0.000000    0.000000   \n",
       "25%      0.000000  133.000000    0.000000    0.00000    0.000000    0.000000   \n",
       "50%      2.000000  153.500000    0.000000    0.80000    1.000000    0.000000   \n",
       "75%      2.000000  166.000000    1.000000    1.60000    1.000000    1.000000   \n",
       "max      2.000000  202.000000    1.000000    6.20000    2.000000    3.000000   \n",
       "\n",
       "             thal      target  \n",
       "count  270.000000  270.000000  \n",
       "mean     1.822222    0.444444  \n",
       "std      0.959140    0.497827  \n",
       "min      1.000000    0.000000  \n",
       "25%      1.000000    0.000000  \n",
       "50%      1.000000    0.000000  \n",
       "75%      3.000000    1.000000  \n",
       "max      3.000000    1.000000  "
      ]
     },
     "execution_count": 5,
     "metadata": {},
     "output_type": "execute_result"
    }
   ],
   "source": [
    "df_statlog.describe()"
   ]
  },
  {
   "cell_type": "markdown",
   "id": "9115a249",
   "metadata": {},
   "source": [
    "#### Assign X and y from the above dataset"
   ]
  },
  {
   "cell_type": "code",
   "execution_count": 6,
   "id": "94d7e7b0",
   "metadata": {},
   "outputs": [],
   "source": [
    "X=df_statlog.drop(labels='target',axis=1)\n",
    "y=df_statlog['target']"
   ]
  },
  {
   "cell_type": "code",
   "execution_count": 7,
   "id": "bffc15a3",
   "metadata": {},
   "outputs": [],
   "source": [
    "X_const = sm.add_constant(X)"
   ]
  },
  {
   "cell_type": "code",
   "execution_count": 8,
   "id": "7fb5369e",
   "metadata": {},
   "outputs": [],
   "source": [
    "model = sm.OLS(y, X_const)"
   ]
  },
  {
   "cell_type": "markdown",
   "id": "023d8306",
   "metadata": {},
   "source": [
    "#### Lasso - L1 regularization"
   ]
  },
  {
   "cell_type": "code",
   "execution_count": 9,
   "id": "b8c49771",
   "metadata": {},
   "outputs": [
    {
     "data": {
      "text/plain": [
       "const       0.000000\n",
       "age         0.003585\n",
       "sex         0.000000\n",
       "cp          0.000000\n",
       "trestbps    0.004286\n",
       "chol        0.000920\n",
       "fbs         0.000000\n",
       "restecg     0.000000\n",
       "thalach    -0.003695\n",
       "exang       0.000000\n",
       "oldpeak     0.000000\n",
       "slope       0.000000\n",
       "ca          0.000000\n",
       "thal        0.000000\n",
       "dtype: float64"
      ]
     },
     "execution_count": 9,
     "metadata": {},
     "output_type": "execute_result"
    }
   ],
   "source": [
    "results = model.fit_regularized(method = 'elastic_net', alpha = 1.0, L1_wt = 1.0)\n",
    "results.params"
   ]
  },
  {
   "cell_type": "markdown",
   "id": "d9f6ca35",
   "metadata": {},
   "source": [
    "#### With alpha being 1.0, Lasso (L1_st=1.0) is trying to make many of the feature model parameters to zero. As we can observe, out of total of 14 columns, 10 columns shrank to zero\n",
    "\n",
    "Higher alpha - stronger regularization - more shrinkage of coefficients toward zero <br>\n",
    "Lower aplha - weaker regularization - coefficient coloser to normal OLS"
   ]
  },
  {
   "cell_type": "markdown",
   "id": "061488a8",
   "metadata": {},
   "source": [
    "#### Let's see how increasing and decreasing of alpha would change the coefficients"
   ]
  },
  {
   "cell_type": "code",
   "execution_count": 10,
   "id": "124d584e",
   "metadata": {},
   "outputs": [
    {
     "data": {
      "text/plain": [
       "const       0.082323\n",
       "age         0.000516\n",
       "sex         0.145099\n",
       "cp          0.090506\n",
       "trestbps    0.000009\n",
       "chol        0.000044\n",
       "fbs        -0.074602\n",
       "restecg     0.040746\n",
       "thalach    -0.002914\n",
       "exang       0.117579\n",
       "oldpeak     0.046521\n",
       "slope       0.042560\n",
       "ca          0.130483\n",
       "thal        0.127632\n",
       "dtype: float64"
      ]
     },
     "execution_count": 10,
     "metadata": {},
     "output_type": "execute_result"
    }
   ],
   "source": [
    "results = model.fit_regularized(method = 'elastic_net', alpha = 0.0, L1_wt = 1.0)\n",
    "results.params"
   ]
  },
  {
   "cell_type": "markdown",
   "id": "82b63a5c",
   "metadata": {},
   "source": [
    "#### With alpha being zero, there is no regularization applied and none of the coefficients are zero"
   ]
  },
  {
   "cell_type": "code",
   "execution_count": 11,
   "id": "e4ef582f",
   "metadata": {},
   "outputs": [
    {
     "data": {
      "text/plain": [
       "const       0.000000\n",
       "age         0.000000\n",
       "sex         0.000000\n",
       "cp          0.000000\n",
       "trestbps    0.003089\n",
       "chol        0.001259\n",
       "fbs         0.000000\n",
       "restecg     0.000000\n",
       "thalach    -0.001917\n",
       "exang       0.000000\n",
       "oldpeak     0.000000\n",
       "slope       0.000000\n",
       "ca          0.000000\n",
       "thal        0.000000\n",
       "dtype: float64"
      ]
     },
     "execution_count": 11,
     "metadata": {},
     "output_type": "execute_result"
    }
   ],
   "source": [
    "results = model.fit_regularized(method = 'elastic_net', alpha = 2.0, L1_wt = 1.0)\n",
    "results.params"
   ]
  },
  {
   "cell_type": "markdown",
   "id": "055273c9",
   "metadata": {},
   "source": [
    "#### With alpha =1.0, 4 coefficients were non-zero. As we increased alpha=2.0, now only 3 coeffients are non-zero. So, now the Lasso model is highly regularized"
   ]
  },
  {
   "cell_type": "markdown",
   "id": "05610361",
   "metadata": {},
   "source": [
    "-------------------------------------------------------------------------------------------------------------------------------------------------------------------------------"
   ]
  },
  {
   "cell_type": "markdown",
   "id": "1ea5b7b6",
   "metadata": {},
   "source": [
    "Now, let's see what Ridge does to the parameters"
   ]
  },
  {
   "cell_type": "code",
   "execution_count": 12,
   "id": "4dd75544",
   "metadata": {},
   "outputs": [
    {
     "name": "stdout",
     "output_type": "stream",
     "text": [
      "const       0.002487\n",
      "age         0.000688\n",
      "sex         0.041682\n",
      "cp          0.062711\n",
      "trestbps    0.003032\n",
      "chol        0.000750\n",
      "fbs        -0.006905\n",
      "restecg     0.024851\n",
      "thalach    -0.004282\n",
      "exang       0.032544\n",
      "oldpeak     0.045646\n",
      "slope       0.020454\n",
      "ca          0.067306\n",
      "thal        0.083747\n",
      "dtype: float64\n"
     ]
    }
   ],
   "source": [
    "results = model.fit_regularized(method = 'elastic_net', alpha = 1.0, L1_wt = 0.0)\n",
    "coefficients = pd.Series(results.params, index=X_const.columns)\n",
    "print(coefficients)"
   ]
  },
  {
   "cell_type": "markdown",
   "id": "77156a5c",
   "metadata": {},
   "source": [
    "#### Ridge (L2 Regularization) did not make any coefficient to zero. Apparently, Ridge shrinks coefficients toward 0 but doesn’t eliminate them like Lasso"
   ]
  },
  {
   "cell_type": "markdown",
   "id": "03f92960",
   "metadata": {},
   "source": [
    "-----------------------------------------------------------------------------------------------------------------------------------------------------------------------------"
   ]
  },
  {
   "cell_type": "markdown",
   "id": "b793f148",
   "metadata": {},
   "source": [
    "#### Now, let's dive into the Elastic Net regression model. Apparently, that is the method used in the above Lasso and Ridge statsmodels fit_regularize method but with different L1_wt parameter to determine which model is being used."
   ]
  },
  {
   "cell_type": "markdown",
   "id": "ccd02b7f",
   "metadata": {},
   "source": [
    "Elastic Net add both Lasso and Ridge penalties to loss function"
   ]
  },
  {
   "cell_type": "code",
   "execution_count": 13,
   "id": "73774b63",
   "metadata": {},
   "outputs": [
    {
     "name": "stdout",
     "output_type": "stream",
     "text": [
      "const       0.000000\n",
      "age         0.007634\n",
      "sex         0.000000\n",
      "cp          0.000000\n",
      "trestbps    0.003999\n",
      "chol        0.000686\n",
      "fbs         0.000000\n",
      "restecg     0.000000\n",
      "thalach    -0.004512\n",
      "exang       0.000000\n",
      "oldpeak     0.000000\n",
      "slope       0.000000\n",
      "ca          0.000000\n",
      "thal        0.000000\n",
      "dtype: float64\n"
     ]
    }
   ],
   "source": [
    "results = model.fit_regularized(method = 'elastic_net', alpha = 1.0, L1_wt = 0.5)\n",
    "coefficients = pd.Series(results.params, index=X_const.columns)\n",
    "print(coefficients)"
   ]
  },
  {
   "cell_type": "markdown",
   "id": "28ad5b6b",
   "metadata": {},
   "source": [
    "We can clearly see here that some of the coefficients were shrinked (Ridge Effect) and some of them are zero (Lasso effect). With that it is evident, both Lasso and Ridge were used (50-50%).\n",
    "\n",
    "So, Elastic Net used Feature Selection, handled multicolinearity to optimize the loss."
   ]
  },
  {
   "cell_type": "markdown",
   "id": "4af1c685",
   "metadata": {},
   "source": [
    "#### Lasso prediction and R square values"
   ]
  },
  {
   "cell_type": "code",
   "execution_count": 15,
   "id": "d2b2041f",
   "metadata": {},
   "outputs": [
    {
     "name": "stdout",
     "output_type": "stream",
     "text": [
      "R2 Scores for different alphas: [np.float64(0.5376868423099715), np.float64(0.14998951424226448), np.float64(0.09589617125959737)]\n"
     ]
    },
    {
     "data": {
      "image/png": "[encoded data removed]",
      "text/plain": [
       "<Figure size 600x400 with 1 Axes>"
      ]
     },
     "metadata": {},
     "output_type": "display_data"
    }
   ],
   "source": [
    "alphas = [0.0, 1.0, 2.0]\n",
    "r2_scores = []\n",
    "\n",
    "for alpha in alphas:\n",
    "    results = model.fit_regularized(method='elastic_net', alpha=alpha, L1_wt=1.0)\n",
    "    y_pred = results.predict(X_const)\n",
    "    ss_res = np.sum((y - y_pred) ** 2)\n",
    "    ss_tot = np.sum((y - np.mean(y)) ** 2)\n",
    "    r2 = 1 - (ss_res / ss_tot)\n",
    "    r2_scores.append(r2)\n",
    "\n",
    "print(\"R2 Scores for different alphas:\", r2_scores)\n",
    "plt.figure(figsize=(6,4))\n",
    "plt.plot(alphas, r2_scores, marker='o')\n",
    "plt.xlabel('Alpha')\n",
    "plt.ylabel('R2 Score')\n",
    "plt.title('R2 Score vs Alpha (Lasso)')\n",
    "plt.grid(True)\n",
    "plt.show()"
   ]
  },
  {
   "cell_type": "markdown",
   "id": "03867327",
   "metadata": {},
   "source": [
    "#### As observed, with increased alpha, R square is getting reduced. This is effect of over regularization. With alpha=2, the model is highly penalized and it becomes too simple, so underfitting is obvious."
   ]
  }
 ],
 "metadata": {
  "kernelspec": {
   "display_name": "Python 3",
   "language": "python",
   "name": "python3"
  },
  "language_info": {
   "codemirror_mode": {
    "name": "ipython",
    "version": 3
   },
   "file_extension": ".py",
   "mimetype": "text/x-python",
   "name": "python",
   "nbconvert_exporter": "python",
   "pygments_lexer": "ipython3",
   "version": "3.13.3"
  }
 },
 "nbformat": 4,
 "nbformat_minor": 5
}
